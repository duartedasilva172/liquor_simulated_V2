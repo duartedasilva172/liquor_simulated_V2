{
 "cells": [
  {
   "cell_type": "code",
   "execution_count": 3,
   "id": "b304e476",
   "metadata": {},
   "outputs": [],
   "source": [
    "import pandas as pd\n",
    "import numpy as np\n",
    "import matplotlib.pyplot as plt\n",
    "import os \n",
    "import streamlit"
   ]
  },
  {
   "cell_type": "code",
   "execution_count": 6,
   "id": "10e8a3a8",
   "metadata": {},
   "outputs": [
    {
     "name": "stdout",
     "output_type": "stream",
     "text": [
      "/Users/duartedasilva/Desktop/liquor_simulated_project\n"
     ]
    }
   ],
   "source": [
    "def get_file_directory(file_path):\n",
    "    return os.path.dirname(os.path.abspath(file_path))\n",
    "\n",
    "print(get_file_directory('liquor_inventory_V2.csv'))"
   ]
  }
 ],
 "metadata": {
  "kernelspec": {
   "display_name": "Python 3",
   "language": "python",
   "name": "python3"
  },
  "language_info": {
   "codemirror_mode": {
    "name": "ipython",
    "version": 3
   },
   "file_extension": ".py",
   "mimetype": "text/x-python",
   "name": "python",
   "nbconvert_exporter": "python",
   "pygments_lexer": "ipython3",
   "version": "3.9.6"
  }
 },
 "nbformat": 4,
 "nbformat_minor": 5
}
